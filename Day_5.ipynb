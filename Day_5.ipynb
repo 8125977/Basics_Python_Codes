{
  "nbformat": 4,
  "nbformat_minor": 0,
  "metadata": {
    "colab": {
      "provenance": [],
      "authorship_tag": "ABX9TyMXhBJyxAP4n6tum8eHyJLV",
      "include_colab_link": true
    },
    "kernelspec": {
      "name": "python3",
      "display_name": "Python 3"
    },
    "language_info": {
      "name": "python"
    }
  },
  "cells": [
    {
      "cell_type": "markdown",
      "metadata": {
        "id": "view-in-github",
        "colab_type": "text"
      },
      "source": [
        "<a href=\"https://colab.research.google.com/github/8125977/Basics_Python_Codes/blob/main/Day_5.ipynb\" target=\"_parent\"><img src=\"https://colab.research.google.com/assets/colab-badge.svg\" alt=\"Open In Colab\"/></a>"
      ]
    },
    {
      "cell_type": "markdown",
      "source": [
        "Replace character"
      ],
      "metadata": {
        "id": "kCrpJ051gVNx"
      }
    },
    {
      "cell_type": "code",
      "source": [
        "s=\"tervpro\"\n",
        "ch1=s.replace(\"e\",\"p\")\n",
        "print(ch1)"
      ],
      "metadata": {
        "colab": {
          "base_uri": "https://localhost:8080/"
        },
        "id": "rUT7M-gvgX5B",
        "outputId": "a9158012-8bf1-446c-8661-08b638169de0"
      },
      "execution_count": null,
      "outputs": [
        {
          "output_type": "stream",
          "name": "stdout",
          "text": [
            "tprvpro\n"
          ]
        }
      ]
    },
    {
      "cell_type": "markdown",
      "source": [
        "                  Or"
      ],
      "metadata": {
        "id": "2tVsq2iWhqrp"
      }
    },
    {
      "cell_type": "code",
      "source": [
        "def replace_char(s):\n",
        "   temp=\"\"\n",
        "   for i in s:\n",
        "      if i==\"e\":\n",
        "         temp+=\"p\"\n",
        "      elif i==\"p\":\n",
        "         temp+=\"e\"\n",
        "      else:\n",
        "         temp+=i\n",
        "   return temp\n",
        "s=input()\n",
        "print(replace_char(s))"
      ],
      "metadata": {
        "colab": {
          "base_uri": "https://localhost:8080/"
        },
        "id": "rs8wlKG7hs-f",
        "outputId": "8069ff1e-18e8-48c7-e838-723d7175aafe"
      },
      "execution_count": null,
      "outputs": [
        {
          "output_type": "stream",
          "name": "stdout",
          "text": [
            "Thevmp\n",
            "Thpvme\n"
          ]
        }
      ]
    },
    {
      "cell_type": "markdown",
      "source": [
        "Reverse a string"
      ],
      "metadata": {
        "id": "3xN83yqP69iI"
      }
    },
    {
      "cell_type": "code",
      "source": [
        "str=input()\n",
        "words=str.split()\n",
        "rev_words=words[::-1]\n",
        "print(\"\".join(rev_words))"
      ],
      "metadata": {
        "colab": {
          "base_uri": "https://localhost:8080/"
        },
        "id": "GE4WWdSH6_54",
        "outputId": "f5498e65-8bf4-4b41-adae-60650e360d17"
      },
      "execution_count": null,
      "outputs": [
        {
          "output_type": "stream",
          "name": "stdout",
          "text": [
            "Hello hymava\n",
            "hymavaHello\n"
          ]
        }
      ]
    },
    {
      "cell_type": "markdown",
      "source": [
        "Find Count"
      ],
      "metadata": {
        "id": "oP60JJZ77qmC"
      }
    },
    {
      "cell_type": "code",
      "source": [
        "def find_count(arr,length,num,diff):\n",
        "    count=0\n",
        "    for i in range(length):\n",
        "        if abs(arr[i]-num)<=diff:\n",
        "           count+=1\n",
        "    if count>0:\n",
        "        return count\n",
        "\n",
        "    else:\n",
        "        return -1\n",
        "\n",
        "arr=[12,3,14,56,77,13]\n",
        "num=13\n",
        "diff=2\n",
        "r=find_count(arr,len(arr),num,diff)\n",
        "print(r)"
      ],
      "metadata": {
        "colab": {
          "base_uri": "https://localhost:8080/"
        },
        "id": "8lRBV6sj76St",
        "outputId": "af041067-63e9-4039-e050-5a722311f5b6"
      },
      "execution_count": null,
      "outputs": [
        {
          "output_type": "stream",
          "name": "stdout",
          "text": [
            "3\n"
          ]
        }
      ]
    }
  ]
}