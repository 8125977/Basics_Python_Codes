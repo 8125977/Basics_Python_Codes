{
  "nbformat": 4,
  "nbformat_minor": 0,
  "metadata": {
    "colab": {
      "provenance": [],
      "authorship_tag": "ABX9TyOLfdHPFWVQjcG8kwoWazyU",
      "include_colab_link": true
    },
    "kernelspec": {
      "name": "python3",
      "display_name": "Python 3"
    },
    "language_info": {
      "name": "python"
    }
  },
  "cells": [
    {
      "cell_type": "markdown",
      "metadata": {
        "id": "view-in-github",
        "colab_type": "text"
      },
      "source": [
        "<a href=\"https://colab.research.google.com/github/8125977/Basics_Python_Codes/blob/main/Day_4.ipynb\" target=\"_parent\"><img src=\"https://colab.research.google.com/assets/colab-badge.svg\" alt=\"Open In Colab\"/></a>"
      ]
    },
    {
      "cell_type": "markdown",
      "source": [
        "Difference of sum"
      ],
      "metadata": {
        "id": "ziiBqq8-dOv2"
      }
    },
    {
      "cell_type": "code",
      "source": [
        "def differenceofsum(a,b):\n",
        "    sum1=0\n",
        "    sum2=0\n",
        "    for i in range(1,b+1):\n",
        "        if i%a==0:\n",
        "            sum1+=i\n",
        "        else:\n",
        "            sum2+=i\n",
        "    return sum2-sum1\n",
        "a=int(input())\n",
        "b=int(input())\n",
        "print(differenceofsum(a,b))"
      ],
      "metadata": {
        "colab": {
          "base_uri": "https://localhost:8080/"
        },
        "id": "9fAZQk3fdRfr",
        "outputId": "8b1d4021-ef38-42cc-d71a-3e41138e921b"
      },
      "execution_count": null,
      "outputs": [
        {
          "output_type": "stream",
          "name": "stdout",
          "text": [
            "6\n",
            "30\n",
            "285\n"
          ]
        }
      ]
    },
    {
      "cell_type": "markdown",
      "source": [
        "Operations choices"
      ],
      "metadata": {
        "id": "EbHIpvuBlpZh"
      }
    },
    {
      "cell_type": "code",
      "source": [
        "def operationchoices(c,a,b):\n",
        "   if c==1:\n",
        "      return a+b\n",
        "   elif c==2:\n",
        "      return a-b\n",
        "   elif c==3:\n",
        "      return a*b\n",
        "   elif c==4:\n",
        "      return a/b\n",
        "   else:\n",
        "      return none\n",
        "c=int(input())\n",
        "a=int(input())\n",
        "b=int(input())\n",
        "print (operationchoices(c,a,b))"
      ],
      "metadata": {
        "colab": {
          "base_uri": "https://localhost:8080/"
        },
        "id": "LaOQ6BxrltxO",
        "outputId": "b3af8177-e63a-4f91-99b5-7903dd065fa6"
      },
      "execution_count": 17,
      "outputs": [
        {
          "output_type": "stream",
          "name": "stdout",
          "text": [
            "2\n",
            "15\n",
            "20\n",
            "-5\n"
          ]
        }
      ]
    },
    {
      "cell_type": "markdown",
      "source": [
        "Anagram String"
      ],
      "metadata": {
        "id": "CF1fjFqMpdhO"
      }
    },
    {
      "cell_type": "code",
      "source": [
        "def anagram(n1,n2):\n",
        "   if sorted(n1)==sorted(n2):\n",
        "       print(\"yes\")\n",
        "   else:\n",
        "       print(\"no\")\n",
        "n1=input()\n",
        "n2=input()\n",
        "anagram(n1,n2)"
      ],
      "metadata": {
        "colab": {
          "base_uri": "https://localhost:8080/"
        },
        "id": "pK80EfNNphV3",
        "outputId": "b0d79134-a021-42d1-b74b-b88d7095609e"
      },
      "execution_count": 24,
      "outputs": [
        {
          "output_type": "stream",
          "name": "stdout",
          "text": [
            "listen \n",
            "silent \n",
            "yes\n"
          ]
        }
      ]
    }
  ]
}