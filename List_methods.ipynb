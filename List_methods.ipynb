{
  "nbformat": 4,
  "nbformat_minor": 0,
  "metadata": {
    "colab": {
      "provenance": [],
      "include_colab_link": true
    },
    "kernelspec": {
      "name": "python3",
      "display_name": "Python 3"
    },
    "language_info": {
      "name": "python"
    }
  },
  "cells": [
    {
      "cell_type": "markdown",
      "metadata": {
        "id": "view-in-github",
        "colab_type": "text"
      },
      "source": [
        "<a href=\"https://colab.research.google.com/github/8125977/Basics_Python_Codes/blob/main/List_methods.ipynb\" target=\"_parent\"><img src=\"https://colab.research.google.com/assets/colab-badge.svg\" alt=\"Open In Colab\"/></a>"
      ]
    },
    {
      "cell_type": "markdown",
      "source": [
        "# Finding max and min"
      ],
      "metadata": {
        "id": "XuHeT_Q_rre3"
      }
    },
    {
      "cell_type": "code",
      "source": [
        "l=[1,2,3,4,5]\n",
        "\n",
        "max(l)"
      ],
      "metadata": {
        "colab": {
          "base_uri": "https://localhost:8080/"
        },
        "id": "1RuLM4ogjgh9",
        "outputId": "4162a189-b559-4ae4-a513-233f6aa5f4b1"
      },
      "execution_count": null,
      "outputs": [
        {
          "output_type": "execute_result",
          "data": {
            "text/plain": [
              "5"
            ]
          },
          "metadata": {},
          "execution_count": 1
        }
      ]
    },
    {
      "cell_type": "code",
      "source": [
        "l=[1,2,3,4,5]\n",
        "min(l)"
      ],
      "metadata": {
        "id": "nqb1MM35tvzO",
        "outputId": "245013ff-b5e3-43a3-f24a-9120d929a276",
        "colab": {
          "base_uri": "https://localhost:8080/"
        }
      },
      "execution_count": null,
      "outputs": [
        {
          "output_type": "execute_result",
          "data": {
            "text/plain": [
              "1"
            ]
          },
          "metadata": {},
          "execution_count": 2
        }
      ]
    },
    {
      "cell_type": "markdown",
      "source": [
        "# calculating sum and average"
      ],
      "metadata": {
        "id": "Le7GdOzJkJw9"
      }
    },
    {
      "cell_type": "code",
      "source": [
        "L=[1,2,3,4,5,6]\n",
        "sum1=sum(L)\n",
        "avg=sum1/len(L)\n",
        "print(\"sum=\",sum1)\n",
        "print(\"avgerage=\",avg)"
      ],
      "metadata": {
        "colab": {
          "base_uri": "https://localhost:8080/"
        },
        "id": "TPbmOTsnkQan",
        "outputId": "a56a6750-9858-4b57-a82a-6c295af2f0a2"
      },
      "execution_count": null,
      "outputs": [
        {
          "output_type": "stream",
          "name": "stdout",
          "text": [
            "sum= 21\n",
            "avgerage= 3.5\n"
          ]
        }
      ]
    },
    {
      "cell_type": "markdown",
      "source": [
        "# sorting list"
      ],
      "metadata": {
        "id": "OlcNp5nsmCde"
      }
    },
    {
      "cell_type": "code",
      "source": [
        "#ascending order\n",
        "numbers =[10,5,3,8,1]\n",
        "numbers.sort()\n",
        "print(numbers)\n",
        "\n",
        "#descending order\n",
        "numbers=[10,5,3,8,1]\n",
        "numbers.sort(reverse=True)\n",
        "print(numbers)"
      ],
      "metadata": {
        "colab": {
          "base_uri": "https://localhost:8080/"
        },
        "id": "XOB_EWnSmGME",
        "outputId": "1e085810-99a7-4893-df4e-05545049a101"
      },
      "execution_count": null,
      "outputs": [
        {
          "output_type": "stream",
          "name": "stdout",
          "text": [
            "[1, 3, 5, 8, 10]\n",
            "[10, 8, 5, 3, 1]\n"
          ]
        }
      ]
    },
    {
      "cell_type": "markdown",
      "source": [
        "# Reversing list"
      ],
      "metadata": {
        "id": "HBq4mZhcoQMW"
      }
    },
    {
      "cell_type": "code",
      "source": [
        "list=['p','y','t','h','o','n']\n",
        "list[::-1]"
      ],
      "metadata": {
        "colab": {
          "base_uri": "https://localhost:8080/"
        },
        "id": "O_VbJJtpoWrB",
        "outputId": "f72b7f8f-973f-48e0-bbd1-eb2e51d4fdd6"
      },
      "execution_count": null,
      "outputs": [
        {
          "output_type": "execute_result",
          "data": {
            "text/plain": [
              "['n', 'o', 'h', 't', 'y', 'p']"
            ]
          },
          "metadata": {},
          "execution_count": 4
        }
      ]
    },
    {
      "cell_type": "markdown",
      "source": [
        "# counting occurences"
      ],
      "metadata": {
        "id": "EWFzb6zOp6sy"
      }
    },
    {
      "cell_type": "code",
      "source": [
        "names=[\"lalli\",\"vamsi\",\"lalli\"]\n",
        "a=names.count(\"lalli\")\n",
        "print(a)"
      ],
      "metadata": {
        "colab": {
          "base_uri": "https://localhost:8080/"
        },
        "id": "ZNzwWngBp_fx",
        "outputId": "3e31f461-b422-4658-e6d1-123c24ef46eb"
      },
      "execution_count": null,
      "outputs": [
        {
          "output_type": "stream",
          "name": "stdout",
          "text": [
            "2\n"
          ]
        }
      ]
    },
    {
      "cell_type": "markdown",
      "source": [
        "# Removing duplicates"
      ],
      "metadata": {
        "id": "IVnC_xyQqdYS"
      }
    },
    {
      "cell_type": "code",
      "source": [
        "l=[2,3,4,2,5,6,5]\n",
        "print(list(set(l)))"
      ],
      "metadata": {
        "id": "-9Bkc5iCo3w4",
        "outputId": "debbf02c-fc79-4c76-97f4-c108d53e9d9a",
        "colab": {
          "base_uri": "https://localhost:8080/"
        }
      },
      "execution_count": 1,
      "outputs": [
        {
          "output_type": "stream",
          "name": "stdout",
          "text": [
            "[2, 3, 4, 5, 6]\n"
          ]
        }
      ]
    },
    {
      "cell_type": "markdown",
      "source": [
        "# combining list"
      ],
      "metadata": {
        "id": "QqSRBAeOueEz"
      }
    },
    {
      "cell_type": "code",
      "source": [
        "#using+\n",
        "\n",
        "list1=[1,2,3]\n",
        "list2=[4,5,6]\n",
        "list3=list1+list2\n",
        "print(list3)\n",
        "\n",
        "#using append\n",
        "\n",
        "list1=[1,2,3]\n",
        "list2=[4,5,6]\n",
        "for x in list2:\n",
        "  list1.append(x)\n",
        "print(list1)\n",
        "\n",
        "#using extend\n",
        "\n",
        "list1=[1,2,3]\n",
        "list2=[4,5,6]\n",
        "list1.extend(list2)\n",
        "print(list1)\n"
      ],
      "metadata": {
        "colab": {
          "base_uri": "https://localhost:8080/"
        },
        "id": "QV0NjDXluiXQ",
        "outputId": "b3abf7d6-1f67-4d73-a2ab-5c357573db34"
      },
      "execution_count": null,
      "outputs": [
        {
          "output_type": "stream",
          "name": "stdout",
          "text": [
            "[1, 2, 3, 4, 5, 6]\n",
            "[1, 2, 3, 4, 5, 6]\n",
            "[1, 2, 3, 4, 5, 6]\n"
          ]
        }
      ]
    },
    {
      "cell_type": "markdown",
      "source": [
        "# splitting list"
      ],
      "metadata": {
        "id": "W_g8qabmwx1G"
      }
    },
    {
      "cell_type": "code",
      "source": [
        "l1=[0,1,2,3,4,5]\n",
        "l2=l1[1::2]\n",
        "l3=l1[0::2]\n",
        "print(l2)\n",
        "print(l3)"
      ],
      "metadata": {
        "id": "W1eT7KOrw21C",
        "outputId": "fb76470b-bb50-4595-d666-96ff77f7e77a",
        "colab": {
          "base_uri": "https://localhost:8080/"
        }
      },
      "execution_count": null,
      "outputs": [
        {
          "output_type": "stream",
          "name": "stdout",
          "text": [
            "[1, 3, 5]\n",
            "[0, 2, 4]\n"
          ]
        }
      ]
    },
    {
      "cell_type": "markdown",
      "source": [
        "# Finding index"
      ],
      "metadata": {
        "id": "pZ_IoFzelglL"
      }
    },
    {
      "cell_type": "code",
      "source": [
        "l=[1,2,3,4,5]\n",
        "x=l.index(3)\n",
        "print(x)"
      ],
      "metadata": {
        "id": "uCCRm7FmlmHK",
        "outputId": "e4f10c5b-c33d-4736-fc26-55ae0e1d1feb",
        "colab": {
          "base_uri": "https://localhost:8080/"
        }
      },
      "execution_count": null,
      "outputs": [
        {
          "output_type": "stream",
          "name": "stdout",
          "text": [
            "2\n"
          ]
        }
      ]
    },
    {
      "cell_type": "markdown",
      "source": [
        "# Checking membership"
      ],
      "metadata": {
        "id": "898C6KVLl5SS"
      }
    },
    {
      "cell_type": "code",
      "source": [
        "l=[1,2,3,4,5]\n",
        "i=6\n",
        "if i in l:\n",
        "  print(\"yes\")\n",
        "else:\n",
        "  print(\"no\")"
      ],
      "metadata": {
        "id": "mOP4CRBlmAxH",
        "outputId": "5c109e3e-411b-4a3b-d3c1-3010bf77969a",
        "colab": {
          "base_uri": "https://localhost:8080/"
        }
      },
      "execution_count": 3,
      "outputs": [
        {
          "output_type": "stream",
          "name": "stdout",
          "text": [
            "no\n"
          ]
        }
      ]
    },
    {
      "cell_type": "markdown",
      "source": [
        "# Finding common elements"
      ],
      "metadata": {
        "id": "8aRXUM3mmUtH"
      }
    },
    {
      "cell_type": "code",
      "source": [
        "a = [2, 9, 4, 5]\n",
        "b = [3, 5, 7, 2]\n",
        "\n",
        "# Use a different variable name instead of 'list'\n",
        "result_list = list(set(a).intersection(b))\n",
        "print(result_list)"
      ],
      "metadata": {
        "id": "0QEi8NG_mbQU",
        "outputId": "a27942ee-791e-4cc2-90e7-e5eddd8d6f1c",
        "colab": {
          "base_uri": "https://localhost:8080/"
        }
      },
      "execution_count": 4,
      "outputs": [
        {
          "output_type": "stream",
          "name": "stdout",
          "text": [
            "[2, 5]\n"
          ]
        }
      ]
    },
    {
      "cell_type": "markdown",
      "source": [
        "# Merging lists with zip"
      ],
      "metadata": {
        "id": "FflN_iLYn4mk"
      }
    },
    {
      "cell_type": "code",
      "source": [
        "a=[1,3,4]\n",
        "b=[5,7,11]\n",
        "c=zip(a,b)\n",
        "d=list(c)\n",
        "print(d)"
      ],
      "metadata": {
        "id": "YfT13nwBoMSF",
        "outputId": "bb35612e-cc56-428d-9743-ca6f068d1a42",
        "colab": {
          "base_uri": "https://localhost:8080/"
        }
      },
      "execution_count": 5,
      "outputs": [
        {
          "output_type": "stream",
          "name": "stdout",
          "text": [
            "[(1, 5), (3, 7), (4, 11)]\n"
          ]
        }
      ]
    },
    {
      "cell_type": "markdown",
      "source": [
        "# splitting string into list"
      ],
      "metadata": {
        "id": "y-48uJZspQK-"
      }
    },
    {
      "cell_type": "code",
      "source": [
        "str=\"hello world\"\n",
        "lst=str.split()\n",
        "print(lst)"
      ],
      "metadata": {
        "id": "LfrRrd2eoIW9",
        "outputId": "65bfc19e-5161-4376-da7a-74e14fdd65d1",
        "colab": {
          "base_uri": "https://localhost:8080/"
        }
      },
      "execution_count": null,
      "outputs": [
        {
          "output_type": "stream",
          "name": "stdout",
          "text": [
            "['hello', 'world']\n"
          ]
        }
      ]
    },
    {
      "cell_type": "markdown",
      "source": [
        "# checking equality"
      ],
      "metadata": {
        "id": "pPquomuwpo1w"
      }
    },
    {
      "cell_type": "code",
      "source": [
        "l1=[1,2,3]\n",
        "l2=[1,2,3]\n",
        "if(l1==l2):\n",
        "  print(\"equal\")\n",
        "else:\n",
        "  print(\"not equal\")\n"
      ],
      "metadata": {
        "id": "ICorvojmptEK",
        "outputId": "d6730744-265c-4471-82e4-5d723020a91a",
        "colab": {
          "base_uri": "https://localhost:8080/"
        }
      },
      "execution_count": null,
      "outputs": [
        {
          "output_type": "stream",
          "name": "stdout",
          "text": [
            "equal\n"
          ]
        }
      ]
    },
    {
      "cell_type": "markdown",
      "source": [
        "# copying list"
      ],
      "metadata": {
        "id": "O3O_XRszp_W_"
      }
    },
    {
      "cell_type": "code",
      "source": [
        "l=[1,2,3]\n",
        "l1=l.copy()\n",
        "print(l1)"
      ],
      "metadata": {
        "id": "Krn08TMuqCXD",
        "outputId": "0b69dc0a-da5b-42ae-8098-a4169f5967ac",
        "colab": {
          "base_uri": "https://localhost:8080/"
        }
      },
      "execution_count": null,
      "outputs": [
        {
          "output_type": "stream",
          "name": "stdout",
          "text": [
            "[1, 2, 3]\n"
          ]
        }
      ]
    },
    {
      "cell_type": "markdown",
      "source": [
        "# sublist"
      ],
      "metadata": {
        "id": "i8KhjErCqK20"
      }
    },
    {
      "cell_type": "code",
      "source": [
        "l=['apple','banana','watermelon']\n",
        "l1='kiwi'\n",
        "if l1 in l:\n",
        "  print(\"present\")\n",
        "else:\n",
        "  print(\"not present\")"
      ],
      "metadata": {
        "id": "LJT1R6C9qNmV",
        "outputId": "49f0e385-1e84-492f-d22c-bdd4b34362e8",
        "colab": {
          "base_uri": "https://localhost:8080/"
        }
      },
      "execution_count": null,
      "outputs": [
        {
          "output_type": "stream",
          "name": "stdout",
          "text": [
            "not present\n"
          ]
        }
      ]
    },
    {
      "cell_type": "markdown",
      "source": [
        "# Join"
      ],
      "metadata": {
        "id": "RlKTEKkwqpKy"
      }
    },
    {
      "cell_type": "code",
      "source": [
        "l=['h','e','l','l','o']\n",
        "print(\"\".join(l))"
      ],
      "metadata": {
        "id": "A9RWQKp1qrDT",
        "outputId": "28db047f-8acc-48a4-b515-d8595de9621e",
        "colab": {
          "base_uri": "https://localhost:8080/"
        }
      },
      "execution_count": null,
      "outputs": [
        {
          "output_type": "stream",
          "name": "stdout",
          "text": [
            "hello\n"
          ]
        }
      ]
    },
    {
      "cell_type": "markdown",
      "source": [
        "# Remove"
      ],
      "metadata": {
        "id": "zjaMHaACrNxk"
      }
    },
    {
      "cell_type": "code",
      "source": [
        "l=[1,2,3,4,5]\n",
        "l.remove(3)\n",
        "print(l)"
      ],
      "metadata": {
        "id": "69aPWhLqrSD7",
        "outputId": "cac3e8c2-afe0-417b-a950-85b25dce275e",
        "colab": {
          "base_uri": "https://localhost:8080/"
        }
      },
      "execution_count": null,
      "outputs": [
        {
          "output_type": "stream",
          "name": "stdout",
          "text": [
            "[1, 2, 4, 5]\n"
          ]
        }
      ]
    },
    {
      "cell_type": "markdown",
      "source": [
        "# Rotation"
      ],
      "metadata": {
        "id": "4ebR8q11r0It"
      }
    },
    {
      "cell_type": "code",
      "source": [
        "l=[1,4,6,7,2]\n",
        "l1=l[3:]+l[:3]\n",
        "print(l1)"
      ],
      "metadata": {
        "id": "95AXw6rer2m8",
        "outputId": "7fae7cd5-82d0-4029-e5d9-54f66ef120d8",
        "colab": {
          "base_uri": "https://localhost:8080/"
        }
      },
      "execution_count": null,
      "outputs": [
        {
          "output_type": "stream",
          "name": "stdout",
          "text": [
            "[7, 2, 1, 4, 6]\n"
          ]
        }
      ]
    },
    {
      "cell_type": "markdown",
      "source": [
        "# Unique"
      ],
      "metadata": {
        "id": "52JbVpJesIZG"
      }
    },
    {
      "cell_type": "code",
      "source": [
        "numbers=[1,2,2,3,3,4,5]\n",
        "l1=(set(numbers))\n",
        "print(l1)"
      ],
      "metadata": {
        "id": "z_-a9GxhsLZx",
        "outputId": "802b8be5-888d-485d-8c77-3d79d21e4115",
        "colab": {
          "base_uri": "https://localhost:8080/"
        }
      },
      "execution_count": null,
      "outputs": [
        {
          "output_type": "stream",
          "name": "stdout",
          "text": [
            "{1, 2, 3, 4, 5}\n"
          ]
        }
      ]
    }
  ]
}