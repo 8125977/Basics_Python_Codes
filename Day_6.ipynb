{
  "nbformat": 4,
  "nbformat_minor": 0,
  "metadata": {
    "colab": {
      "provenance": [],
      "authorship_tag": "ABX9TyMR1c1V5VW3luZNXAEwBrXD",
      "include_colab_link": true
    },
    "kernelspec": {
      "name": "python3",
      "display_name": "Python 3"
    },
    "language_info": {
      "name": "python"
    }
  },
  "cells": [
    {
      "cell_type": "markdown",
      "metadata": {
        "id": "view-in-github",
        "colab_type": "text"
      },
      "source": [
        "<a href=\"https://colab.research.google.com/github/8125977/Basics_Python_Codes/blob/main/Day_6.ipynb\" target=\"_parent\"><img src=\"https://colab.research.google.com/assets/colab-badge.svg\" alt=\"Open In Colab\"/></a>"
      ]
    },
    {
      "cell_type": "markdown",
      "source": [
        "Decode"
      ],
      "metadata": {
        "id": "xqR4YB6W8V7g"
      }
    },
    {
      "cell_type": "code",
      "source": [
        "def DectoNBase(n,num):\n",
        "    notation=\"0123456789abcdefghijklmnopqrstuvwxyz\"\n",
        "    result=\"\"\n",
        "    while num>0:\n",
        "        remainder=num%n\n",
        "        result=notation[remainder]+result\n",
        "        num=num//n\n",
        "    return result\n",
        "n=int(input())\n",
        "num=int(input())\n",
        "print(DectoNBase(n,num))"
      ],
      "metadata": {
        "colab": {
          "base_uri": "https://localhost:8080/"
        },
        "id": "-tLZKPsM8aYL",
        "outputId": "d4be9257-7467-4772-cdce-14fdaa11f679"
      },
      "execution_count": 3,
      "outputs": [
        {
          "output_type": "stream",
          "name": "stdout",
          "text": [
            "12\n",
            "718\n",
            "4ba\n"
          ]
        }
      ]
    },
    {
      "cell_type": "markdown",
      "source": [
        "Maths is fun"
      ],
      "metadata": {
        "id": "4-6jUMtnDQfE"
      }
    },
    {
      "cell_type": "code",
      "source": [
        "def calculate(m,n):\n",
        "    sum=0\n",
        "    for i in range(n):\n",
        "        if i%3==0 and i%5==0:\n",
        "            sum+=i\n",
        "    return sum\n",
        "m=int(input())\n",
        "n=int(input())\n",
        "print(calculate(m,n))"
      ],
      "metadata": {
        "colab": {
          "base_uri": "https://localhost:8080/"
        },
        "id": "cNHebcJrDTQC",
        "outputId": "efef5ff2-3ee6-470a-e968-7064bac602a8"
      },
      "execution_count": 4,
      "outputs": [
        {
          "output_type": "stream",
          "name": "stdout",
          "text": [
            "12\n",
            "50\n",
            "90\n"
          ]
        }
      ]
    },
    {
      "cell_type": "markdown",
      "source": [
        "Longest common subsequence"
      ],
      "metadata": {
        "id": "YQuts2LeGgH8"
      }
    },
    {
      "cell_type": "code",
      "source": [
        "def lcs(s1,s2):\n",
        "    res=[]\n",
        "    for i in s1:\n",
        "        if i in s2:\n",
        "           res.append(i)\n",
        "    res=set(res)\n",
        "    return len(res)\n",
        "s1=input()\n",
        "s2=input()\n",
        "print(lcs(s1,s2))"
      ],
      "metadata": {
        "colab": {
          "base_uri": "https://localhost:8080/"
        },
        "id": "k2sFSIovGlN-",
        "outputId": "f6436e4c-8862-4f07-9722-1e9dbd0f345d"
      },
      "execution_count": 6,
      "outputs": [
        {
          "output_type": "stream",
          "name": "stdout",
          "text": [
            "Hyma\n",
            "Hyma\n",
            "4\n"
          ]
        }
      ]
    },
    {
      "cell_type": "markdown",
      "source": [
        "Matrix oddeven"
      ],
      "metadata": {
        "id": "syc5iqFkLotb"
      }
    },
    {
      "cell_type": "code",
      "source": [
        "n=int(input())\n",
        "arr=list(map(int,input().split()))\n",
        "even_arr=[]\n",
        "odd_arr=[]\n",
        "for i in range(n):\n",
        "   if i%2==0:\n",
        "      even_arr.append(arr[i])\n",
        "   else:\n",
        "      odd_arr.append(arr[i])\n",
        "even_arr.sort()\n",
        "odd_arr.sort()\n",
        "print(even_arr[-2]+odd_arr[-2])"
      ],
      "metadata": {
        "colab": {
          "base_uri": "https://localhost:8080/"
        },
        "id": "IBjHBk0nIHqR",
        "outputId": "caec3330-e95d-43d1-b963-f7b3bdf16c19"
      },
      "execution_count": 13,
      "outputs": [
        {
          "output_type": "stream",
          "name": "stdout",
          "text": [
            "4\n",
            "5 6 3 4\n",
            "7\n"
          ]
        }
      ]
    }
  ]
}