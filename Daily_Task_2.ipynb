{
  "nbformat": 4,
  "nbformat_minor": 0,
  "metadata": {
    "colab": {
      "provenance": [],
      "authorship_tag": "ABX9TyNcpWs5E0humdKfnQjO9otL",
      "include_colab_link": true
    },
    "kernelspec": {
      "name": "python3",
      "display_name": "Python 3"
    },
    "language_info": {
      "name": "python"
    }
  },
  "cells": [
    {
      "cell_type": "markdown",
      "metadata": {
        "id": "view-in-github",
        "colab_type": "text"
      },
      "source": [
        "<a href=\"https://colab.research.google.com/github/8125977/Basics_Python_Codes/blob/main/Daily_Task_2.ipynb\" target=\"_parent\"><img src=\"https://colab.research.google.com/assets/colab-badge.svg\" alt=\"Open In Colab\"/></a>"
      ]
    },
    {
      "cell_type": "markdown",
      "source": [
        "Printing Vowels and Consonants"
      ],
      "metadata": {
        "id": "XH3sucwBJO1G"
      }
    },
    {
      "cell_type": "code",
      "source": [
        "a=input()\n",
        "v=0\n",
        "c=0\n",
        "for i in a:\n",
        "    if(i=='a' or i=='e' or i=='i' or i=='o' or i=='u' or i=='A' or i=='E' or i=='I'\n",
        "or i=='o' or i=='u'):\n",
        "       v+=1\n",
        "    else:\n",
        "       c+=1\n",
        "print(\"vowels\",v)\n",
        "print(\"consonants\",c)"
      ],
      "metadata": {
        "colab": {
          "base_uri": "https://localhost:8080/"
        },
        "id": "CbCcmYmA6ZI3",
        "outputId": "fe9dd23f-7a58-4dcb-9284-c2ddc2326793"
      },
      "execution_count": 12,
      "outputs": [
        {
          "output_type": "stream",
          "name": "stdout",
          "text": [
            "Hymavathi\n",
            "vowels 3\n",
            "consonants 6\n"
          ]
        }
      ]
    },
    {
      "cell_type": "markdown",
      "source": [
        "                    Or"
      ],
      "metadata": {
        "id": "MPCmD8rj81Lh"
      }
    },
    {
      "cell_type": "code",
      "source": [
        "n=input()\n",
        "V=\"\"\n",
        "C=\"\"\n",
        "for i in n:\n",
        "    if(i=='a' or i=='e' or i=='i' or i=='o' or i=='u' or i=='A' or i=='E' or i=='I'\n",
        "    or i=='U' or i=='U'):\n",
        "        print(\"vowel\")\n",
        "    else:\n",
        "        print(\"consonant\")"
      ],
      "metadata": {
        "colab": {
          "base_uri": "https://localhost:8080/"
        },
        "id": "KfBJGXW884qx",
        "outputId": "bfc70c0e-2baa-4185-88b9-7467d45a8ae9"
      },
      "execution_count": 11,
      "outputs": [
        {
          "output_type": "stream",
          "name": "stdout",
          "text": [
            "H\n",
            "consonant\n"
          ]
        }
      ]
    },
    {
      "cell_type": "code",
      "source": [
        "a=input()\n",
        "v=\"\"\n",
        "c=\"\"\n",
        "for i in a:\n",
        "    if(i=='a' or i=='e' or i=='i' or i=='o' or i=='u' or i=='A' or i=='E' or i=='I'\n",
        "or i=='o' or i=='u'):\n",
        "       v+=i\n",
        "    else:\n",
        "       c+=i\n",
        "print(\"vowels:\",v)\n",
        "print(\"consonants:\",c)"
      ],
      "metadata": {
        "colab": {
          "base_uri": "https://localhost:8080/"
        },
        "id": "pifTCdwU_Zjj",
        "outputId": "d39542a3-0ce7-4119-a96e-39b41c0e3368"
      },
      "execution_count": 15,
      "outputs": [
        {
          "output_type": "stream",
          "name": "stdout",
          "text": [
            "Hymavathi \n",
            "vowels: aai\n",
            "consonants: Hymvth \n"
          ]
        }
      ]
    },
    {
      "cell_type": "markdown",
      "source": [
        "Alphabet or not"
      ],
      "metadata": {
        "id": "Qm163oRq_352"
      }
    },
    {
      "cell_type": "code",
      "source": [
        "ch=input()\n",
        "if ((ch>='a' and ch<='z') or (ch>='A' and ch<='Z')):\n",
        "    print(\"alphabet\")\n",
        "else:\n",
        "    print(\"not alphabet\")"
      ],
      "metadata": {
        "colab": {
          "base_uri": "https://localhost:8080/"
        },
        "id": "gM7q_LjC_4bT",
        "outputId": "fc8902d7-e5da-4ac7-9969-2c27f7a18c37"
      },
      "execution_count": 44,
      "outputs": [
        {
          "output_type": "stream",
          "name": "stdout",
          "text": [
            "4\n",
            "not alphabet\n"
          ]
        }
      ]
    },
    {
      "cell_type": "markdown",
      "source": [
        "ASCII value"
      ],
      "metadata": {
        "id": "UDtwfy12BXXo"
      }
    },
    {
      "cell_type": "code",
      "source": [
        " a=input()\n",
        " b=ord(a)\n",
        " print(b)"
      ],
      "metadata": {
        "colab": {
          "base_uri": "https://localhost:8080/"
        },
        "id": "haick_8VBbOr",
        "outputId": "4b8a25b7-8f6d-488b-8c45-6b3c13ab80f2"
      },
      "execution_count": 28,
      "outputs": [
        {
          "output_type": "stream",
          "name": "stdout",
          "text": [
            "A\n",
            "65\n"
          ]
        }
      ]
    },
    {
      "cell_type": "markdown",
      "source": [
        "Sorted function"
      ],
      "metadata": {
        "id": "rs_9scj1CMcw"
      }
    },
    {
      "cell_type": "code",
      "source": [
        "a=[1,4,3,2]\n",
        "b=sorted (a)\n",
        "print(b)"
      ],
      "metadata": {
        "colab": {
          "base_uri": "https://localhost:8080/"
        },
        "id": "exmJuzChCPFt",
        "outputId": "d0e4fb7e-0a75-4db7-cabe-b012ba22de37"
      },
      "execution_count": 29,
      "outputs": [
        {
          "output_type": "stream",
          "name": "stdout",
          "text": [
            "[1, 2, 3, 4]\n"
          ]
        }
      ]
    },
    {
      "cell_type": "markdown",
      "source": [
        "Swapcase with method"
      ],
      "metadata": {
        "id": "eadHEJ0kCgao"
      }
    },
    {
      "cell_type": "code",
      "source": [
        "str=input()\n",
        "print(str.swapcase())"
      ],
      "metadata": {
        "colab": {
          "base_uri": "https://localhost:8080/"
        },
        "id": "pI_o7XYdCkl8",
        "outputId": "098e0507-593e-40f1-9422-53496c85c1fd"
      },
      "execution_count": 30,
      "outputs": [
        {
          "output_type": "stream",
          "name": "stdout",
          "text": [
            "HymavAThi\n",
            "hYMAVatHI\n"
          ]
        }
      ]
    },
    {
      "cell_type": "markdown",
      "source": [
        "Without method"
      ],
      "metadata": {
        "id": "7VrxXAazENty"
      }
    },
    {
      "cell_type": "code",
      "source": [
        "str=input()\n",
        "str1=\"\"\n",
        "for i in str:\n",
        "    if i.isupper():\n",
        "       i=i.lower()\n",
        "       str1+=i\n",
        "    else:\n",
        "       i=i.upper()\n",
        "       str1+=i\n",
        "print(str1)"
      ],
      "metadata": {
        "colab": {
          "base_uri": "https://localhost:8080/"
        },
        "id": "fZQHhfMyDwSb",
        "outputId": "204445c7-5b1d-4b2b-f846-8db86c0ec37d"
      },
      "execution_count": 33,
      "outputs": [
        {
          "output_type": "stream",
          "name": "stdout",
          "text": [
            "Hymavathi\n",
            "hYMAVATHI\n"
          ]
        }
      ]
    },
    {
      "cell_type": "markdown",
      "source": [
        "First  character upper"
      ],
      "metadata": {
        "id": "khykSf4_EWV9"
      }
    },
    {
      "cell_type": "code",
      "source": [
        "str=input()\n",
        "str1=str[0].upper()+str[1:-1]\n",
        "print(str1)"
      ],
      "metadata": {
        "colab": {
          "base_uri": "https://localhost:8080/"
        },
        "id": "6O_tGvN8EhRL",
        "outputId": "0f71bd68-9be5-40e0-9b7e-85133ac1077e"
      },
      "execution_count": 40,
      "outputs": [
        {
          "output_type": "stream",
          "name": "stdout",
          "text": [
            "hymavathi \n",
            "Hymavathi\n"
          ]
        }
      ]
    },
    {
      "cell_type": "markdown",
      "source": [
        "Length of the string without length function"
      ],
      "metadata": {
        "id": "E89LhL_SH-Ib"
      }
    },
    {
      "cell_type": "code",
      "source": [
        "s=input()\n",
        "c=0\n",
        "for i in s:\n",
        "   c+=1\n",
        "print(c)"
      ],
      "metadata": {
        "colab": {
          "base_uri": "https://localhost:8080/"
        },
        "id": "7ioE6cR4IEq-",
        "outputId": "cdd12df7-fffa-451e-d8a4-e15179caf74c"
      },
      "execution_count": 41,
      "outputs": [
        {
          "output_type": "stream",
          "name": "stdout",
          "text": [
            "Hymavathi\n",
            "9\n"
          ]
        }
      ]
    },
    {
      "cell_type": "markdown",
      "source": [
        "Sort function"
      ],
      "metadata": {
        "id": "31_mq9xeJEJG"
      }
    },
    {
      "cell_type": "code",
      "source": [
        "a=[1,5,3,4]\n",
        "a.sort()\n",
        "print(a)"
      ],
      "metadata": {
        "colab": {
          "base_uri": "https://localhost:8080/"
        },
        "id": "e1MhLblKIh_R",
        "outputId": "25a99345-4126-4123-ba2a-312436d78b40"
      },
      "execution_count": 43,
      "outputs": [
        {
          "output_type": "stream",
          "name": "stdout",
          "text": [
            "[1, 3, 4, 5]\n"
          ]
        }
      ]
    },
    {
      "cell_type": "markdown",
      "source": [
        "Reverse string"
      ],
      "metadata": {
        "id": "kWU0qBPCKm47"
      }
    },
    {
      "cell_type": "code",
      "source": [
        "str=input()\n",
        "print(str[::-1])"
      ],
      "metadata": {
        "colab": {
          "base_uri": "https://localhost:8080/"
        },
        "id": "gh0zCwmFKqrB",
        "outputId": "a78221cd-fff8-440a-a9c6-7d24d207bb4c"
      },
      "execution_count": 48,
      "outputs": [
        {
          "output_type": "stream",
          "name": "stdout",
          "text": [
            "Hymavathi\n",
            "ihtavamyH\n"
          ]
        }
      ]
    },
    {
      "cell_type": "markdown",
      "source": [
        "For words"
      ],
      "metadata": {
        "id": "Kbsg2vncKa2i"
      }
    },
    {
      "cell_type": "code",
      "source": [
        "Str=input()\n",
        "words=Str.split()\n",
        "rev_words=words[::-1]\n",
        "print(\" \".join(rev_words))"
      ],
      "metadata": {
        "colab": {
          "base_uri": "https://localhost:8080/"
        },
        "id": "g1XRknOGJ7yW",
        "outputId": "b9c4035d-d0af-43ba-fb0a-e435fd8ef975"
      },
      "execution_count": 46,
      "outputs": [
        {
          "output_type": "stream",
          "name": "stdout",
          "text": [
            "I am hyma\n",
            "hyma am I\n"
          ]
        }
      ]
    }
  ]
}