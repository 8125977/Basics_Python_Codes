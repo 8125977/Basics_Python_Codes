{
  "nbformat": 4,
  "nbformat_minor": 0,
  "metadata": {
    "colab": {
      "provenance": [],
      "authorship_tag": "ABX9TyPSuPBHGPybYNsEQpP291rd",
      "include_colab_link": true
    },
    "kernelspec": {
      "name": "python3",
      "display_name": "Python 3"
    },
    "language_info": {
      "name": "python"
    }
  },
  "cells": [
    {
      "cell_type": "markdown",
      "metadata": {
        "id": "view-in-github",
        "colab_type": "text"
      },
      "source": [
        "<a href=\"https://colab.research.google.com/github/8125977/Basics_Python_Codes/blob/main/Daily_Task_1.ipynb\" target=\"_parent\"><img src=\"https://colab.research.google.com/assets/colab-badge.svg\" alt=\"Open In Colab\"/></a>"
      ]
    },
    {
      "cell_type": "markdown",
      "source": [
        "Automorphic Number"
      ],
      "metadata": {
        "id": "WrAG-MZ7BUzC"
      }
    },
    {
      "cell_type": "code",
      "source": [
        "n=int(input())\n",
        "m=n*n\n",
        "num=m%10\n",
        "if num==n:\n",
        "   print(\"Automorphic Number\")\n",
        "else:\n",
        "   print(\"Not a Automorphic\")"
      ],
      "metadata": {
        "id": "HGbV0dODBhUG",
        "outputId": "c0a78b3c-1885-44f9-d1c1-5e08286f8fc6",
        "colab": {
          "base_uri": "https://localhost:8080/"
        }
      },
      "execution_count": null,
      "outputs": [
        {
          "output_type": "stream",
          "name": "stdout",
          "text": [
            "5\n",
            "Automorphic Number\n"
          ]
        }
      ]
    },
    {
      "cell_type": "markdown",
      "source": [
        "Abundant Number"
      ],
      "metadata": {
        "id": "aHzR4Meezk5l"
      }
    },
    {
      "cell_type": "code",
      "source": [
        "n=int(input())\n",
        "sum=0\n",
        "for i in range(1,n):\n",
        "   if n%i==0:\n",
        "      sum=sum+i\n",
        "if sum>n:\n",
        "     print(\"abundant\")\n",
        "else:\n",
        "     print(\"not abundant\")"
      ],
      "metadata": {
        "colab": {
          "base_uri": "https://localhost:8080/"
        },
        "id": "0pK8IP_uzjjk",
        "outputId": "2adb2348-796e-44e8-e7ba-66810d185956"
      },
      "execution_count": null,
      "outputs": [
        {
          "output_type": "stream",
          "name": "stdout",
          "text": [
            "15\n",
            "not abundant\n"
          ]
        }
      ]
    },
    {
      "cell_type": "markdown",
      "source": [
        "Harsad Number"
      ],
      "metadata": {
        "id": "CRZ7ZEaT2pm1"
      }
    },
    {
      "cell_type": "code",
      "source": [
        "n=int(input())\n",
        "sum=0\n",
        "while(n!=0):\n",
        "   rem=n%10\n",
        "   sum=sum+rem\n",
        "   n=n//10\n",
        "if n%sum==0:\n",
        "   print(\"yes\")\n",
        "else:\n",
        "   print(\"no\")"
      ],
      "metadata": {
        "colab": {
          "base_uri": "https://localhost:8080/"
        },
        "id": "jm-VfMRV2vUr",
        "outputId": "eac6869e-f49f-4926-ac98-069f316a17f8"
      },
      "execution_count": null,
      "outputs": [
        {
          "output_type": "stream",
          "name": "stdout",
          "text": [
            "21\n",
            "yes\n"
          ]
        }
      ]
    },
    {
      "cell_type": "markdown",
      "source": [
        "Perfect Number"
      ],
      "metadata": {
        "id": "2ZrrI_le7DYM"
      }
    },
    {
      "cell_type": "code",
      "source": [
        "n=int(input())\n",
        "sum=0\n",
        "for i in range(1,n):\n",
        "   if n%i==0:\n",
        "      sum=sum+i\n",
        "if sum>=n:\n",
        "     print(\"Perfect\")\n",
        "else:\n",
        "     print(\"not Perfect\")"
      ],
      "metadata": {
        "colab": {
          "base_uri": "https://localhost:8080/"
        },
        "id": "864EMDvt7bcU",
        "outputId": "e47b934e-0b87-42ac-ca4a-c4519aeebad5"
      },
      "execution_count": null,
      "outputs": [
        {
          "output_type": "stream",
          "name": "stdout",
          "text": [
            "56\n",
            "Perfect\n"
          ]
        }
      ]
    },
    {
      "cell_type": "markdown",
      "source": [
        "Friendly Pair"
      ],
      "metadata": {
        "id": "5Z7_ErEa7pIZ"
      }
    },
    {
      "cell_type": "code",
      "source": [
        "n1=int(input())\n",
        "n2=int(input())\n",
        "sum1=0\n",
        "sum2=0\n",
        "for i in range(1,n1):\n",
        "    if n1%i==0:\n",
        "       sum1=sum+i\n",
        "for j in range(1,n2):\n",
        "    if n2%j==0:\n",
        "       sum2=sum2+j\n",
        "if sum1//n1==sum2//n2:\n",
        "    print(\"Friendly pair\")\n",
        "else:\n",
        "    print(\"Not Friendly pair\")"
      ],
      "metadata": {
        "colab": {
          "base_uri": "https://localhost:8080/"
        },
        "id": "MUE20qw97uRe",
        "outputId": "65f95d6c-c7c0-4535-b3d8-1b579a92f642"
      },
      "execution_count": null,
      "outputs": [
        {
          "output_type": "stream",
          "name": "stdout",
          "text": [
            "23\n",
            "14\n",
            "Not Friendly pair\n"
          ]
        }
      ]
    },
    {
      "cell_type": "markdown",
      "source": [
        "Perfect square"
      ],
      "metadata": {
        "id": "wyd_UVIf9mAM"
      }
    },
    {
      "cell_type": "code",
      "source": [
        "n=int(input())\n",
        "for i in range(n):\n",
        "   if i*i==n:\n",
        "      print(\"perfect square\")"
      ],
      "metadata": {
        "colab": {
          "base_uri": "https://localhost:8080/"
        },
        "id": "tNqp558d9qva",
        "outputId": "3e15fadf-f915-4f23-b59a-4775a7d19360"
      },
      "execution_count": null,
      "outputs": [
        {
          "output_type": "stream",
          "name": "stdout",
          "text": [
            "25\n",
            "perfect square\n"
          ]
        }
      ]
    }
  ]
}